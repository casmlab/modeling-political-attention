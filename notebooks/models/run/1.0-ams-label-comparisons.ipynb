{
 "cells": [
  {
   "cell_type": "code",
   "execution_count": 3,
   "metadata": {},
   "outputs": [],
   "source": [
    "import warnings\n",
    "warnings.simplefilter('ignore')\n",
    "\n",
    "from sklearn.externals import joblib\n",
    "from sklearn.metrics import cohen_kappa_score\n",
    "import matplotlib.pyplot as plt\n",
    "\n",
    "import re\n",
    "import pickle\n",
    "import numpy as np\n",
    "import pandas as pd\n",
    "import csv\n",
    "\n",
    "from stop_words import get_stop_words\n",
    "import string\n",
    "\n",
    "from nltk.tokenize.casual import TweetTokenizer\n",
    "\n",
    "from gensim import matutils, corpora, models\n",
    "import gensim\n",
    "\n",
    "import eli5"
   ]
  },
  {
   "cell_type": "markdown",
   "metadata": {},
   "source": [
    "# Set Notebook parameters\n",
    "Here we set variables necessary for pre-processing."
   ]
  },
  {
   "cell_type": "code",
   "execution_count": 5,
   "metadata": {},
   "outputs": [],
   "source": [
    "def tokenize_func(doc, tknzr=TweetTokenizer(preserve_case=False, strip_handles=True, reduce_len=True)):\n",
    "\n",
    "    # remove URLs\n",
    "    doc = re.sub(r'^(https|http)?:\\/\\/.*(\\r|\\n|\\b)', '', doc, flags=re.MULTILINE)\n",
    "    \n",
    "    # tokenize\n",
    "    tokens = tknzr.tokenize(doc)\n",
    "\n",
    "    # remove punctuation from each token\n",
    "    table = str.maketrans('', '', string.punctuation)\n",
    "    nopunct_tokens = [w.translate(table) for w in tokens]\n",
    "    for tok in nopunct_tokens:\n",
    "        if 'httptco' in tok:\n",
    "            ind = nopunct_tokens.index(tok)\n",
    "            del(nopunct_tokens[ind])\n",
    "        elif 'httpstco' in tok:\n",
    "            ind = nopunct_tokens.index(tok)\n",
    "            del(nopunct_tokens[ind])\n",
    "\n",
    "    # keep words length 3 or more\n",
    "    long_tokens = [token for token in nopunct_tokens if len(token) > 2]\n",
    "\n",
    "    # remove remaining tokens that are not alphabetic\n",
    "    alpha_tokens = [word for word in long_tokens if word.isalpha()]\n",
    "\n",
    "    # remove stop words from tokens\n",
    "    stopped_tokens = [i for i in alpha_tokens if not i in stop_words_2]\n",
    "        \n",
    "    return stopped_tokens\n",
    "\n",
    "def replace_urls(text):\n",
    "    text_clean = re.sub(r'^(https|http)?:\\/\\/.*(\\r|\\n|\\b)', '', text, flags=re.MULTILINE)\n",
    "    return text_clean"
   ]
  },
  {
   "cell_type": "code",
   "execution_count": 6,
   "metadata": {},
   "outputs": [],
   "source": [
    "stop_words_en = get_stop_words('en') # English stoplist\n",
    "stop_words_sp = get_stop_words('spanish') # Spanish stoplist\n",
    "\n",
    "stop_words_2 = []\n",
    "\n",
    "for word in stop_words_en:\n",
    "    stop_words_2.append(word)\n",
    "for word in stop_words_sp:\n",
    "    stop_words_2.append(word)"
   ]
  },
  {
   "cell_type": "markdown",
   "metadata": {},
   "source": [
    "# Label Data"
   ]
  },
  {
   "cell_type": "markdown",
   "metadata": {},
   "source": [
    "### Load Data"
   ]
  },
  {
   "cell_type": "code",
   "execution_count": 7,
   "metadata": {},
   "outputs": [],
   "source": [
    "## note that given licensing limitations, we have not shared raw data in this public repo. as such,\n",
    "## the data file that we list here is the processed dataset, with all columns included\n",
    "data_file = '../../../data/congress_115/congress115.csv.gz'\n",
    "tweets = pd.read_csv(data_file, compression='gzip', dtype=str) "
   ]
  },
  {
   "cell_type": "markdown",
   "metadata": {},
   "source": [
    "## Unsupervised Labels"
   ]
  },
  {
   "cell_type": "markdown",
   "metadata": {},
   "source": [
    "### Add Unsupervised Model Labels to Data"
   ]
  },
  {
   "cell_type": "code",
   "execution_count": 8,
   "metadata": {},
   "outputs": [],
   "source": [
    "# get in data that has unsupervised model labels on it\n",
    "unsup_data = '../../../data/unsupervised/model_output/congress115_compostion_50.txt.gz'\n",
    "unsup = pd.read_csv(unsup_data, compression='gzip', sep='\\t')"
   ]
  },
  {
   "cell_type": "code",
   "execution_count": 9,
   "metadata": {},
   "outputs": [],
   "source": [
    "def process_unsup_labels(unsup):\n",
    "    \n",
    "    unsup = unsup.drop(['0'], axis=1)\n",
    "     \n",
    "    ## rename topic columns to topic numbers\n",
    "    counter = 0\n",
    "    for each in list(unsup.columns.values)[1:]:\n",
    "        unsup.rename(columns = {str(each): str(counter)}, inplace = True)\n",
    "        counter += 1\n",
    "    unsup.head()\n",
    "    \n",
    "    ## make the first column, which currently contains all three of id_str user_id and preprocessed_text, \n",
    "    ## three columns and assign appropriate column names\n",
    "    newdf = unsup['id_str,user_id,preprocessed_text'].apply(lambda x: pd.Series(x.split(',')))\n",
    "    newdf.rename(columns={0:'id_str',1:'user_id',2:'preprocessed_text'},inplace=True)\n",
    "    newdf = newdf.drop([3], axis=1)\n",
    "    \n",
    "    ## now add back all of the topic columns\n",
    "    new_unsup = pd.concat([newdf, unsup], axis=1)\n",
    "    new_unsup = new_unsup.drop(['id_str,user_id,preprocessed_text'], axis=1)\n",
    "    \n",
    "    return new_unsup"
   ]
  },
  {
   "cell_type": "code",
   "execution_count": 10,
   "metadata": {},
   "outputs": [],
   "source": [
    "new_unsup = process_unsup_labels(unsup)"
   ]
  },
  {
   "cell_type": "markdown",
   "metadata": {},
   "source": [
    "### Find Unsupervised Maximum Probability Topics for Each Tweet"
   ]
  },
  {
   "cell_type": "code",
   "execution_count": 8,
   "metadata": {},
   "outputs": [],
   "source": [
    "## we'll need to load the file of topics with terms, and manually added human interpretations of\n",
    "## what those topics are, and then manual policy code numeric assignment associated with those.\n",
    "## for those topics that weren't in the policy codebook, we created new numbers. this set of keys will \n",
    "## help us match up policy codebook numbers with our dataframe's topic numbers. \n",
    "\n",
    "labels_file = '../../../data/unsupervised/model_output/congress115_keys_50.txt'\n",
    "labels = pd.read_csv(labels_file, sep='\\t')"
   ]
  },
  {
   "cell_type": "code",
   "execution_count": 9,
   "metadata": {},
   "outputs": [],
   "source": [
    "def find_max_probability_topics(new_unsup):\n",
    "    \n",
    "    props = new_unsup.loc[:, '0':'49']\n",
    "    maxdf = props.idxmax(axis=1)\n",
    "    new_unsup['max_topic'] = maxdf\n",
    "    ranks = props.rank(axis=1,method='dense', ascending=False).astype(int)\n",
    "    new_unsup['max_topic_2'] = ranks.where(ranks==2).notnull().values.nonzero()[1]   \n",
    "    final_unsup = new_unsup[['id_str', 'user_id', 'max_topic', 'max_topic_2']]\n",
    "    \n",
    "    return final_unsup\n",
    "\n",
    "def rename_labels_to_policy(labels, df):\n",
    "    \n",
    "    ## rename final_unsup topic codes to be policy code book codes\n",
    "    topnames = list(map(int, df.max_topic.unique())) # these are the unique topic numbers in 'max_topic'\n",
    "    for ind,item in labels.iterrows():\n",
    "        lda_label = item['topic_code'] # this is the topic number\n",
    "        if lda_label in topnames:\n",
    "            policycode = list(labels.loc[labels['topic_code'] == lda_label, ['policy_codebook_code']]['policy_codebook_code'])[0]\n",
    "            df.loc[df['max_topic'] == str(int(lda_label)),['max_topic']] = policycode\n",
    "\n",
    "    ## recast policy codes as floats\n",
    "    topnames2 = list(map(int,df.max_topic_2.unique())) # these are the unique topic numbers in 'max_topic_2'\n",
    "    # labels['topic_code'] = labels.topic_code.astype('float') # use if needed\n",
    "    for ind,item in labels.iterrows():\n",
    "        lda_label = item['topic_code']\n",
    "        if lda_label in topnames2:\n",
    "            policycode = list(labels.loc[labels['topic_code'] == lda_label, ['policy_codebook_code']]['policy_codebook_code'])[0]\n",
    "            df.loc[df['max_topic_2'] == str(int(lda_label)),['max_topic_2']] = policycode\n",
    "    \n",
    "    return df\n",
    "\n",
    "def merge_labels(df, df_t):\n",
    "    \n",
    "    ## merge on id_str to get our tweet text for the supervised model labeling\n",
    "    tweets_unsup_labeled = pd.merge(df, df_t, left_on = 'id_str', right_on = 'id_str', how = 'left')\n",
    "    tweets_unsup_labeled.rename(columns = {'user_id_x': 'user_id'}, inplace = True)\n",
    "    tweets_unsup_labeled = tweets_unsup_labeled.drop(['user_id_y'], axis=1)\n",
    "    \n",
    "    ## in case there are any nans in full_text\n",
    "    tweets_unsup_labeled = tweets_unsup_labeled.dropna(subset=['full_text'])\n",
    "    \n",
    "    return tweets_unsup_labeled"
   ]
  },
  {
   "cell_type": "code",
   "execution_count": 10,
   "metadata": {},
   "outputs": [],
   "source": [
    "final_unsup = find_max_probability_topics(new_unsup)"
   ]
  },
  {
   "cell_type": "code",
   "execution_count": 11,
   "metadata": {},
   "outputs": [],
   "source": [
    "policy_unsup = rename_labels_to_policy(labels, final_unsup)"
   ]
  },
  {
   "cell_type": "code",
   "execution_count": 101,
   "metadata": {},
   "outputs": [],
   "source": [
    "tweets_unsup_labeled = merge_labels(policy_unsup, tweets)"
   ]
  },
  {
   "cell_type": "markdown",
   "metadata": {},
   "source": [
    "Since our data is already labeled with unsupervised and supervised model policy labels, if you've run the labeling code above, you'll now have four topic label columns instead of two. Your two newly labeled columns will be:\n",
    "\n",
    "    'max_topic_x'\n",
    "    'max_topic_2_x'\n",
    "\n",
    "Our original topic labels will be columns:\n",
    "\n",
    "    'max_topic_y'\n",
    "    'max_topic_2_y'\n",
    "   \n",
    "To work with either set of columns, uncomment the approriate lines below to drop and rename columns for input into the code that follows."
   ]
  },
  {
   "cell_type": "code",
   "execution_count": 106,
   "metadata": {},
   "outputs": [],
   "source": [
    "## to work with original labels\n",
    "tweets_unsup_labeled = tweets_unsup_labeled.drop(['max_topic_x', 'max_topic_2_x'], axis=1)\n",
    "tweets_unsup_labeled = tweets_unsup_labeled.rename(columns={'max_topic_y': 'max_topic',\n",
    "                                                            'max_topic_2_y': 'max_topic_2'})\n",
    "\n",
    "## to work with your new labels\n",
    "# tweets_unsup_labeled = tweets_unsup_labeled.drop(['max_topic_y', 'max_topic_2_y', axis=1])\n",
    "# tweets_unsup_labeled = tweets_unsup_labeled.rename(columns={'max_topic_x': 'max_topic',\n",
    "#                                                             'max_topic_2_x': 'max_topic_2'})"
   ]
  },
  {
   "cell_type": "code",
   "execution_count": 13,
   "metadata": {},
   "outputs": [],
   "source": [
    "## output to csv if desired\n",
    "# tweets_unsup_labeled.to_csv('../../../data/congress_115/INSERT_FILE_NAME.csv.gz', index=False,\n",
    "#                            compression='gzip')"
   ]
  },
  {
   "cell_type": "markdown",
   "metadata": {},
   "source": [
    "## Supervised Labels"
   ]
  },
  {
   "cell_type": "markdown",
   "metadata": {},
   "source": [
    "### Label Data with Supervised Model Predictions "
   ]
  },
  {
   "cell_type": "code",
   "execution_count": 11,
   "metadata": {},
   "outputs": [],
   "source": [
    "## load best bodel, logisitc regression with no w2v or liwc features, and preserving 90% not-policy tweets\n",
    "with open('../../../models/best/lr/lr_0.9.pkl', 'rb') as file:  \n",
    "    lr_loaded = joblib.load(file)"
   ]
  },
  {
   "cell_type": "code",
   "execution_count": 36,
   "metadata": {},
   "outputs": [],
   "source": [
    "def predict_sup_labels(df, model):\n",
    "    \n",
    "    df['policy_area_lr'] = model.predict(df.text_tokenized)\n",
    "    \n",
    "    return df"
   ]
  },
  {
   "cell_type": "code",
   "execution_count": null,
   "metadata": {},
   "outputs": [],
   "source": [
    "## run this cell to generate new predictions\n",
    "tweets_complete_labeled = predict_sup_labels(tweets_unsup_labeled, lr_loaded)"
   ]
  },
  {
   "cell_type": "code",
   "execution_count": 16,
   "metadata": {},
   "outputs": [],
   "source": [
    "## output to csv if desired\n",
    "# tweets_complete_labeled.to_csv('../../../data/congress_115/INSERT_FILE_NAME.csv.gz', \n",
    "#                             index=False, compression='gzip')"
   ]
  },
  {
   "cell_type": "markdown",
   "metadata": {},
   "source": [
    "### Get Feature Weights for Supervised Model"
   ]
  },
  {
   "cell_type": "code",
   "execution_count": 64,
   "metadata": {},
   "outputs": [],
   "source": [
    "def get_top20_features(model):\n",
    "    \n",
    "    ## get feature weights\n",
    "    weights_df = eli5.explain_weights_df(model, top=20)\n",
    "    weights_t = weights_df.T\n",
    "    \n",
    "    ## reformat weights df\n",
    "    policies = ['0','1','10','12','13','14','15','16','17','18','19','2','20','21','3','4','5','6','7','8','9']\n",
    "    for n in policies:\n",
    "        cols = list(weights_t)\n",
    "        weights_t[n] = weights_t[cols[:20]].apply(lambda x: ','.join(x.fillna('').map(str)), axis=1)\n",
    "        weights_t = weights_t.drop(cols[:20], axis=1)\n",
    "    pd.set_option('display.max_colwidth', 50)\n",
    "    weight_t2 = weights_t.copy()\n",
    "    weight_t2 = weight_t2.drop(['target', 'weight'])\n",
    "    weight_col = weight_t2.T\n",
    "    weight_col.reset_index(level=0, inplace=True)\n",
    "    weight_col = weight_col.rename(columns = {'index': 'policy_code', 'feature': 'topic_associated_terms'})\n",
    "    weight_col = weight_col.sort_values(by=['policy_code'])\n",
    "    weight_col['policy_code'] = weight_col['policy_code'].astype(int)\n",
    "    weight_col.set_index(['policy_code'],inplace=True)\n",
    "    weight_col = weight_col.sort_index()\n",
    "    \n",
    "    return weight_col"
   ]
  },
  {
   "cell_type": "code",
   "execution_count": 65,
   "metadata": {},
   "outputs": [],
   "source": [
    "weights_df = get_top20_features(lr_loaded)"
   ]
  },
  {
   "cell_type": "code",
   "execution_count": 19,
   "metadata": {},
   "outputs": [],
   "source": [
    "## uncomment to write weights_df to latex file\n",
    "# with open('../../../reports/tables/su_features.tex', 'w') as tf:\n",
    "#      tf.write(weights_df.to_latex())"
   ]
  },
  {
   "cell_type": "markdown",
   "metadata": {},
   "source": [
    "# Investigate Topic Distribution for Supervised and Unsupervised Labels"
   ]
  },
  {
   "cell_type": "markdown",
   "metadata": {},
   "source": [
    "## Generate Tables and Charts Representing Topic Distributions"
   ]
  },
  {
   "cell_type": "markdown",
   "metadata": {},
   "source": [
    "### Define General Topic Distribution Functions"
   ]
  },
  {
   "cell_type": "code",
   "execution_count": 66,
   "metadata": {},
   "outputs": [],
   "source": [
    "def generate_dist_dfs(df):\n",
    "    \n",
    "    ## first make df with only policy tweets\n",
    "    df['policy_area_lr'] = df['policy_area_lr'].apply(pd.to_numeric)\n",
    "    df['policy_tweet'] = np.where(df['policy_area_lr'] > 0, 1, 0)\n",
    "    df[\"policy_tweet\"] = df[\"policy_tweet\"].apply(pd.to_numeric)\n",
    "    policy_tweets = df.loc[df['policy_tweet'] == 1]\n",
    "    policy_tweets[\"max_topic\"] = policy_tweets[\"max_topic\"].apply(pd.to_numeric)\n",
    "    policy_code_tweets = policy_tweets.loc[policy_tweets['max_topic'] <= 23]\n",
    "    \n",
    "    ## by party if desired\n",
    "    rep_df = policy_tweets.loc[df['party'] == 'Republican']\n",
    "    dem_df = policy_tweets.loc[df['party'] == 'Democrat']\n",
    "\n",
    "    return policy_tweets, policy_code_tweets, rep_df, dem_df\n",
    "    \n",
    "\n",
    "def generate_topicdist_table(df, fname):\n",
    "    \n",
    "    sup_d = dict(df.policy_area_lr.value_counts())\n",
    "    sup_df = pd.DataFrame.from_dict(sup_d, orient='index')\n",
    "    sup_df.columns = ['freq_sup']\n",
    "    sup_df.reset_index(level=0, inplace=True)\n",
    "    sup_df['index'] = sup_df['index'].astype(str)\n",
    "    sup_freqs = list(sup_df['freq_sup'])\n",
    "    sup_df['SU'] = sup_df['freq_sup']/sum(sup_freqs)\n",
    "    \n",
    "    ## get a list of the unique policy areas and their counts in unsupervised labels col\n",
    "    unsup_d = dict(df.max_topic.value_counts())\n",
    "    unsup_df = pd.DataFrame.from_dict(unsup_d, orient='index')\n",
    "    unsup_df.columns = ['freq_unsup']\n",
    "    unsup_df.reset_index(level=0, inplace=True)\n",
    "    unsup_df['index'] = unsup_df['index'].astype(str)\n",
    "    unsup_df.columns.names = ['code']\n",
    "    unsup_freqs = sorted(list(unsup_df['freq_unsup']))\n",
    "    unsup_df['UN1'] = unsup_df['freq_unsup']/sum(unsup_freqs)\n",
    "    \n",
    "    unsup_d2 = dict(df.max_topic_2.value_counts())\n",
    "    unsup_df2 = pd.DataFrame.from_dict(unsup_d2, orient='index')\n",
    "    unsup_df2.columns = ['freq_unsup_2']\n",
    "    unsup_df2.reset_index(level=0, inplace=True)\n",
    "    unsup_df2['index'] = unsup_df2['index'].astype(str)\n",
    "    unsup_df2.columns.names = ['code']\n",
    "    unsup_freqs2 = sorted(list(unsup_df2['freq_unsup_2']))\n",
    "    unsup_df2['UN2'] = unsup_df2['freq_unsup_2']/sum(unsup_freqs2)\n",
    "\n",
    "    ## merge on index to get a composite table \n",
    "    merge_df = pd.merge(sup_df, unsup_df, how='outer', on='index')\n",
    "    merged_df = pd.merge(merge_df, unsup_df2, how='outer', on='index')\n",
    "    merged_df = merged_df.sort_values(by=['index'])\n",
    "    merged_df = merged_df.rename(columns = {'index': 'policy_code'})\n",
    "    merged_df['policy_code'] = merged_df['policy_code'].astype(int)\n",
    "    merged_df.set_index(['policy_code'],inplace=True)\n",
    "    merged_df = merged_df.sort_index()\n",
    "    merged_df = merged_df.drop(['freq_sup', 'freq_unsup', 'freq_unsup_2'], axis=1)\n",
    "    print(merged_df)\n",
    "    # with open(fname, 'w') as tf:\n",
    "    #     tf.write(merged_df.to_latex())\n",
    "\n",
    "    return merged_df\n",
    "\n",
    "\n",
    "def generate_topicdist_chart(df):\n",
    "    \n",
    "    ## prepare to make merged_df into a chart\n",
    "    df2 = df.iloc[:21]\n",
    "    df2 = df2.drop([0])\n",
    "    df2 = df2.reset_index().sort_values('policy_code', ascending=False)\n",
    "    df2 = df2.rename(columns = {'policy_code': 'Code Number'}) \n",
    "\n",
    "    ## make a chart\n",
    "    df2.plot(x='Code Number', y=[\"UN1\", \"SU\"], kind=\"barh\", \n",
    "                                 figsize=(5,15), width=.7, color=['darkseagreen','gold'], edgecolor='black',\n",
    "                                 linewidth=0.6)\n",
    "    ## uncomment to save figure\n",
    "    # plt.savefig('../../../reports/figures/topicdistplot_sup_unsup_max12.png')\n",
    "    plt.show()"
   ]
  },
  {
   "cell_type": "markdown",
   "metadata": {},
   "source": [
    "### Define Topic Distribution by Party Functions"
   ]
  },
  {
   "cell_type": "code",
   "execution_count": 113,
   "metadata": {},
   "outputs": [],
   "source": [
    "def generate_party_table(df):\n",
    "    \n",
    "    ## republicans\n",
    "    sup_d = dict(df[df.party == 'Republican'].policy_area_lr.value_counts())\n",
    "    sup_df = pd.DataFrame.from_dict(sup_d, orient='index')\n",
    "    sup_df.columns = ['SU_Rep']\n",
    "    sup_df.reset_index(level=0, inplace=True)\n",
    "    sup_df['index'] = sup_df['index'].astype(str)\n",
    "\n",
    "    unsup_d = dict(df[df.party == 'Republican'].max_topic.value_counts())\n",
    "    unsup_df = pd.DataFrame.from_dict(unsup_d, orient='index')\n",
    "    unsup_df.columns = ['UN1_Rep']\n",
    "    unsup_df.reset_index(level=0, inplace=True)\n",
    "    unsup_df['index'] = unsup_df['index'].astype(str)\n",
    "\n",
    "    unsup_d2 = dict(df[df.party == 'Republican'].max_topic_2.value_counts())\n",
    "    unsup_df2 = pd.DataFrame.from_dict(unsup_d2, orient='index')\n",
    "    unsup_df2.columns = ['UN2_Rep']\n",
    "    unsup_df2.reset_index(level=0, inplace=True)\n",
    "    unsup_df2['index'] = unsup_df2['index'].astype(str)\n",
    "    \n",
    "    rep_df = pd.merge(sup_df, unsup_df, how='outer', on='index')\n",
    "    reps_df = pd.merge(rep_df, unsup_df2, how='outer', on='index')\n",
    "\n",
    "    \n",
    "    ## democrats\n",
    "    sup_d = dict(df[df.party == 'Democrat'].policy_area_lr.value_counts())\n",
    "    sup_df = pd.DataFrame.from_dict(sup_d, orient='index')\n",
    "    sup_df.columns = ['SU_Dem']\n",
    "    sup_df.reset_index(level=0, inplace=True)\n",
    "    sup_df['index'] = sup_df['index'].astype(str)\n",
    "\n",
    "    unsup_d = dict(df[df.party == 'Democrat'].max_topic.value_counts())\n",
    "    unsup_df = pd.DataFrame.from_dict(unsup_d, orient='index')\n",
    "    unsup_df.columns = ['UN1_Dem']\n",
    "    unsup_df.reset_index(level=0, inplace=True)\n",
    "    unsup_df['index'] = unsup_df['index'].astype(str)\n",
    "\n",
    "    unsup_d2 = dict(df[df.party == 'Democrat'].max_topic_2.value_counts())\n",
    "    unsup_df2 = pd.DataFrame.from_dict(unsup_d2, orient='index')\n",
    "    unsup_df2.columns = ['UN2_Dem']\n",
    "    unsup_df2.reset_index(level=0, inplace=True)\n",
    "    unsup_df2['index'] = unsup_df2['index'].astype(str)\n",
    "    \n",
    "    dem_df = pd.merge(sup_df, unsup_df, how='outer', on='index')\n",
    "    dems_df = pd.merge(dem_df, unsup_df2, how='outer', on='index')\n",
    "\n",
    "    ## merge\n",
    "    merged_df = pd.merge(reps_df, dems_df, how='outer', on='index')\n",
    "    merged_df['Total_SU'] = merged_df[['SU_Rep', 'SU_Dem']].sum(axis=1)\n",
    "    merged_df['Total_UN1'] = merged_df[['UN1_Rep', 'UN1_Dem']].sum(axis=1)\n",
    "    merged_df['Total_UN2'] = merged_df[['UN2_Rep', 'UN2_Dem']].sum(axis=1)\n",
    "    merged_df['SU_Rep'] = merged_df['SU_Rep']/merged_df['Total_SU']\n",
    "    merged_df['SU_Dem'] = merged_df['SU_Dem']/merged_df['Total_SU']\n",
    "    merged_df['UN1_Rep'] = merged_df['UN1_Rep']/merged_df['Total_UN1']\n",
    "    merged_df['UN1_Dem'] = merged_df['UN1_Dem']/merged_df['Total_UN1']\n",
    "    merged_df['UN2_Rep'] = merged_df['UN2_Rep']/merged_df['Total_UN2']\n",
    "    merged_df['UN2_Dem'] = merged_df['UN2_Dem']/merged_df['Total_UN2']\n",
    "    \n",
    "    merged_df = merged_df.sort_values(by=['index'])\n",
    "    merged_df = merged_df.rename(columns = {'index': 'policy_code'})\n",
    "    merged_df['policy_code'] = merged_df['policy_code'].astype(int)\n",
    "    merged_df.set_index(['policy_code'],inplace=True)\n",
    "    merged_df = merged_df.sort_index()\n",
    "\n",
    "    return merged_df\n",
    "\n",
    "\n",
    "def generate_party_charts(df, sup_file, unsup1_file, unsup2_file):\n",
    "    \n",
    "    party_df = generate_party_table(df)\n",
    "    party_df = party_df.reset_index().sort_values('policy_code', ascending=False)\n",
    "    party_df = party_df.rename(columns = {'policy_code': 'Code Number'}) \n",
    "    \n",
    "    ## generate supervised labels chart\n",
    "    su_df = party_df.copy()\n",
    "    su_df.plot(x='Code Number', y=['SU_Rep', 'SU_Dem'], kind=\"barh\", \n",
    "                                 figsize=(5,15), width=.7, color=['coral','cornflowerblue'], edgecolor='black',\n",
    "                                 linewidth=0.6, stacked=True)\n",
    "    ## uncomment to save figure\n",
    "    # plt.savefig(sup_file)\n",
    "    plt.show()\n",
    "    \n",
    "    ## generate unsupervised labels chart for maximum probability topic\n",
    "    un1_df = party_df.copy()\n",
    "    un1_df.plot(x='Code Number', y=['UN1_Rep', 'UN1_Dem'], kind=\"barh\", \n",
    "                                 figsize=(5,15), width=.7, color=['coral','cornflowerblue'], edgecolor='black',\n",
    "                                 linewidth=0.6, stacked=True)\n",
    "    ## uncomment to save figure\n",
    "    # plt.savefig(unsup1_file)\n",
    "    plt.show()\n",
    "    \n",
    "    ## generate unsupervised labels chart for 2nd highest probability topic\n",
    "    un2_df = party_df.copy()\n",
    "    un2_df.plot(x='Code Number', y=['UN2_Rep', 'UN2_Dem'], kind=\"barh\", \n",
    "                                 figsize=(5,15), width=.7, color=['coral','cornflowerblue'], edgecolor='black',\n",
    "                                 linewidth=0.6, stacked=True)\n",
    "    ## uncomment to save figure\n",
    "    # plt.savefig(unsup2_file)\n",
    "    plt.show()"
   ]
  },
  {
   "cell_type": "markdown",
   "metadata": {},
   "source": [
    "### Run Functions\n",
    "Uncomment any function runs as needed."
   ]
  },
  {
   "cell_type": "code",
   "execution_count": 108,
   "metadata": {},
   "outputs": [],
   "source": [
    "policy_tweets, policy_code_tweets, rep_df, dem_df = generate_dist_dfs(tweets_unsup_labeled)"
   ]
  },
  {
   "cell_type": "code",
   "execution_count": 111,
   "metadata": {},
   "outputs": [
    {
     "name": "stdout",
     "output_type": "stream",
     "text": [
      "                   SU       UN1       UN2\n",
      "policy_code                              \n",
      "0                 NaN  0.025891  0.247785\n",
      "1            0.116018  0.110061  0.055770\n",
      "2            0.076193  0.097788  0.044683\n",
      "3            0.175743  0.396645  0.056206\n",
      "4            0.018967  0.030891  0.017225\n",
      "5            0.043064  0.036314  0.022002\n",
      "6            0.040592  0.032294  0.018353\n",
      "7            0.036284  0.042536  0.014370\n",
      "8            0.025097       NaN       NaN\n",
      "9            0.040094  0.028720  0.014614\n",
      "10           0.020314       NaN  0.023463\n",
      "12           0.084445  0.043724  0.020448\n",
      "13           0.017554  0.035149  0.018568\n",
      "14           0.005747       NaN       NaN\n",
      "15           0.043320  0.035214  0.021218\n",
      "16           0.105383       NaN  0.022365\n",
      "17           0.011087       NaN  0.004507\n",
      "18           0.004408       NaN       NaN\n",
      "19           0.050836       NaN       NaN\n",
      "20           0.069598  0.084774  0.072460\n",
      "21           0.015258       NaN  0.009151\n",
      "24                NaN       NaN  0.023809\n",
      "25                NaN       NaN  0.005361\n",
      "26                NaN       NaN  0.043955\n",
      "27                NaN       NaN  0.015344\n",
      "28                NaN       NaN  0.004471\n",
      "29                NaN       NaN  0.047497\n",
      "30                NaN       NaN  0.052064\n",
      "31                NaN       NaN  0.007440\n",
      "32                NaN       NaN  0.012645\n",
      "33                NaN       NaN  0.068279\n",
      "34                NaN       NaN  0.019387\n",
      "35                NaN       NaN  0.016561\n"
     ]
    }
   ],
   "source": [
    "merged_df = generate_topicdist_table(policy_code_tweets, '../../../reports/tables/topicdist_sup_unsup.tex')"
   ]
  },
  {
   "cell_type": "code",
   "execution_count": 112,
   "metadata": {},
   "outputs": [
    {
     "data": {
      "image/png": "[encoded data removed]",
      "text/plain": [
       "<Figure size 360x1080 with 1 Axes>"
      ]
     },
     "metadata": {
      "needs_background": "light"
     },
     "output_type": "display_data"
    }
   ],
   "source": [
    "generate_topicdist_chart(merged_df)"
   ]
  },
  {
   "cell_type": "code",
   "execution_count": 114,
   "metadata": {},
   "outputs": [
    {
     "data": {
      "image/png": "[encoded data removed]",
      "text/plain": [
       "<Figure size 360x1080 with 1 Axes>"
      ]
     },
     "metadata": {
      "needs_background": "light"
     },
     "output_type": "display_data"
    },
    {
     "data": {
      "image/png": "[encoded data removed]",
      "text/plain": [
       "<Figure size 360x1080 with 1 Axes>"
      ]
     },
     "metadata": {
      "needs_background": "light"
     },
     "output_type": "display_data"
    },
    {
     "data": {
      "image/png": "[encoded data removed]",
      "text/plain": [
       "<Figure size 360x1080 with 1 Axes>"
      ]
     },
     "metadata": {
      "needs_background": "light"
     },
     "output_type": "display_data"
    }
   ],
   "source": [
    "generate_party_charts(tweets_unsup_labeled, '../../../reports/figures/party_topicdistplot_sup_unsup_SU.png',\n",
    "                     '../../../reports/figures/party_topicdistplot_sup_unsup_UN1.png',\n",
    "                     '../../../reports/figures/party_topicdistplot_sup_unsup_UN2.png')"
   ]
  },
  {
   "cell_type": "markdown",
   "metadata": {},
   "source": [
    "## Evaluating Agreement Between Supervised and Unsupervised Labels by Topic"
   ]
  },
  {
   "cell_type": "code",
   "execution_count": 119,
   "metadata": {},
   "outputs": [],
   "source": [
    "def eval_agreement(df):\n",
    "    tweets_analysis = df.copy()\n",
    "    tweets_analysis['max_topic'] = tweets_analysis.max_topic.astype('int')\n",
    "    tweets_analysis['max_topic_2'] = tweets_analysis.max_topic_2.astype('int')\n",
    "    tweets_analysis['policy_area_lr'] = tweets_analysis.policy_area_lr.astype('int')\n",
    "    \n",
    "    ## for maximum probability topic\n",
    "    print(\"% agreement of max probability topic with supervised model label:\")\n",
    "    max_d = {}\n",
    "    for each in range(24):\n",
    "        new_df = tweets_analysis.loc[tweets_analysis['max_topic'] == each]\n",
    "\n",
    "        ## try finding proportional agreement\n",
    "        new_df_matches = new_df.loc[new_df['policy_area_lr'] == each]\n",
    "        unsup_prop_matches = (new_df_matches.shape[0]  / (new_df.shape[0]-1))\n",
    "        max_d[each] = unsup_prop_matches\n",
    "        print(\"Topic \"+str(each)+\": \"+str(unsup_prop_matches*100)+\"%\")\n",
    "        \n",
    "    print('-----')\n",
    "    \n",
    "    ## for second highest probability topic\n",
    "    print(\"% agreement of 2nd max probability topic with supervised model label:\")\n",
    "    max2_d = {}\n",
    "    for each in range(24):\n",
    "        new_df = tweets_analysis.loc[tweets_analysis['max_topic_2'] == each]\n",
    "\n",
    "        ## try finding proportional agreement\n",
    "        new_df_matches = new_df.loc[new_df['policy_area_lr'] == each]\n",
    "        unsup_prop_matches = (new_df_matches.shape[0]  / (new_df.shape[0]-1))\n",
    "        max2_d[each] = unsup_prop_matches\n",
    "        print(\"Topic \"+str(each)+\": \"+str(unsup_prop_matches*100)+\"%\")\n",
    "        \n",
    "    return max_d, max2_d"
   ]
  },
  {
   "cell_type": "code",
   "execution_count": 120,
   "metadata": {},
   "outputs": [
    {
     "name": "stdout",
     "output_type": "stream",
     "text": [
      "% agreement of max probability topic with supervised model label:\n",
      "Topic 0: 67.3896985965734%\n",
      "Topic 1: 36.342110074968005%\n",
      "Topic 2: 16.192690505407132%\n",
      "Topic 3: 17.102749362642943%\n",
      "Topic 4: 19.781123708021887%\n",
      "Topic 5: 8.723638245568639%\n",
      "Topic 6: 45.6794425087108%\n",
      "Topic 7: 18.455849056603775%\n",
      "Topic 8: -0.0%\n",
      "Topic 9: 43.00620636152056%\n",
      "Topic 10: -0.0%\n",
      "Topic 11: -0.0%\n",
      "Topic 12: 55.976415466821095%\n",
      "Topic 13: 18.32286786936443%\n",
      "Topic 14: -0.0%\n",
      "Topic 15: 28.493311774217254%\n",
      "Topic 16: -0.0%\n",
      "Topic 17: -0.0%\n",
      "Topic 18: -0.0%\n",
      "Topic 19: -0.0%\n",
      "Topic 20: 12.127465744510756%\n",
      "Topic 21: -0.0%\n",
      "Topic 22: -0.0%\n",
      "Topic 23: -0.0%\n",
      "-----\n",
      "% agreement of 2nd max probability topic with supervised model label:\n",
      "Topic 0: 53.49443030067859%\n",
      "Topic 1: 19.740388142052975%\n",
      "Topic 2: 11.59748721110426%\n",
      "Topic 3: 33.28310445535326%\n",
      "Topic 4: 10.193518302634647%\n",
      "Topic 5: 4.538121922227883%\n",
      "Topic 6: 19.564761625225376%\n",
      "Topic 7: 19.079853143643874%\n",
      "Topic 8: -0.0%\n",
      "Topic 9: 20.665203444200575%\n",
      "Topic 10: 7.050457162207923%\n",
      "Topic 11: -0.0%\n",
      "Topic 12: 24.04041162773229%\n",
      "Topic 13: 6.856688196199569%\n",
      "Topic 14: -0.0%\n",
      "Topic 15: 13.062995096190116%\n",
      "Topic 16: 15.769189594261857%\n",
      "Topic 17: 5.5983205038488455%\n",
      "Topic 18: -0.0%\n",
      "Topic 19: -0.0%\n",
      "Topic 20: 8.926570468110407%\n",
      "Topic 21: 8.550867786087203%\n",
      "Topic 22: -0.0%\n",
      "Topic 23: -0.0%\n"
     ]
    }
   ],
   "source": [
    "max_d, max2_d = eval_agreement(tweets_unsup_labeled)"
   ]
  },
  {
   "cell_type": "markdown",
   "metadata": {},
   "source": [
    "## Individual Topic Case Studies\n",
    "\n",
    "We can see from our tables that our supervised model detects topics 12 (law and crime), 6 (education), and 9 (immigration) for approximately one half of all cases that our supervised model detects these topics. These three topics represent the those topics with the highest proportion of matches. Those topics the represent the lowest proportion of matches from supervised to unsupervised include topics 5 (labor), 15 (domestic commerce), and 2 (civil rights). Let's look to a couple of case studies to understand where these discrepancies might come from."
   ]
  },
  {
   "cell_type": "code",
   "execution_count": 121,
   "metadata": {},
   "outputs": [],
   "source": [
    "def topic_case_study(df, topic_number):\n",
    "    \n",
    "    ## prepare data as needed\n",
    "    tweets_analysis = df.copy()\n",
    "    tweets_analysis['max_topic'] = tweets_analysis.max_topic.astype('int')\n",
    "    tweets_analysis['max_topic_2'] = tweets_analysis.max_topic_2.astype('int')\n",
    "    tweets_analysis['policy_area_lr'] = tweets_analysis.policy_area_lr.astype('int')\n",
    "    \n",
    "    ## find matches between unsupervised and supervised (max probablity) topic labels \n",
    "    unsup_topic = tweets_analysis[tweets_analysis['policy_area_lr'] == topic_number]\n",
    "    matched_topics = unsup_topic[unsup_topic['max_topic'] == topic_number] \n",
    "    topic_df = matched_topics[['policy_area_lr','max_topic','full_text']]\n",
    "    \n",
    "    ## output to csv if desired\n",
    "    # topic_df.to_csv('../../../reports/tables/topiccasestudy_'+str(topic_number)+'.csv.gz',\n",
    "                   # compression='gzip', index=False)\n",
    "    \n",
    "    return topic_df"
   ]
  },
  {
   "cell_type": "code",
   "execution_count": 122,
   "metadata": {},
   "outputs": [
    {
     "data": {
      "text/html": [
       "<div>\n",
       "<style scoped>\n",
       "    .dataframe tbody tr th:only-of-type {\n",
       "        vertical-align: middle;\n",
       "    }\n",
       "\n",
       "    .dataframe tbody tr th {\n",
       "        vertical-align: top;\n",
       "    }\n",
       "\n",
       "    .dataframe thead th {\n",
       "        text-align: right;\n",
       "    }\n",
       "</style>\n",
       "<table border=\"1\" class=\"dataframe\">\n",
       "  <thead>\n",
       "    <tr style=\"text-align: right;\">\n",
       "      <th></th>\n",
       "      <th>policy_area_lr</th>\n",
       "      <th>max_topic</th>\n",
       "      <th>full_text</th>\n",
       "    </tr>\n",
       "  </thead>\n",
       "  <tbody>\n",
       "    <tr>\n",
       "      <th>32</th>\n",
       "      <td>3</td>\n",
       "      <td>3</td>\n",
       "      <td>@ATT and @DIRECTV are showing how little they ...</td>\n",
       "    </tr>\n",
       "    <tr>\n",
       "      <th>73</th>\n",
       "      <td>3</td>\n",
       "      <td>3</td>\n",
       "      <td>Today's read: Kasich, Hickenlooper release pla...</td>\n",
       "    </tr>\n",
       "    <tr>\n",
       "      <th>77</th>\n",
       "      <td>3</td>\n",
       "      <td>3</td>\n",
       "      <td>We also can't forget about the crews at the @U...</td>\n",
       "    </tr>\n",
       "    <tr>\n",
       "      <th>204</th>\n",
       "      <td>3</td>\n",
       "      <td>3</td>\n",
       "      <td>@NOAADebris This grant will be used to reduce ...</td>\n",
       "    </tr>\n",
       "    <tr>\n",
       "      <th>290</th>\n",
       "      <td>3</td>\n",
       "      <td>3</td>\n",
       "      <td>Thank you @BlueCrossMN! Enjoyed discussion on ...</td>\n",
       "    </tr>\n",
       "  </tbody>\n",
       "</table>\n",
       "</div>"
      ],
      "text/plain": [
       "     policy_area_lr  max_topic  \\\n",
       "32                3          3   \n",
       "73                3          3   \n",
       "77                3          3   \n",
       "204               3          3   \n",
       "290               3          3   \n",
       "\n",
       "                                             full_text  \n",
       "32   @ATT and @DIRECTV are showing how little they ...  \n",
       "73   Today's read: Kasich, Hickenlooper release pla...  \n",
       "77   We also can't forget about the crews at the @U...  \n",
       "204  @NOAADebris This grant will be used to reduce ...  \n",
       "290  Thank you @BlueCrossMN! Enjoyed discussion on ...  "
      ]
     },
     "execution_count": 122,
     "metadata": {},
     "output_type": "execute_result"
    }
   ],
   "source": [
    "topic_df = topic_case_study(tweets_unsup_labeled, 3)\n",
    "topic_df.head()"
   ]
  }
 ],
 "metadata": {
  "kernelspec": {
   "display_name": "Python 3",
   "language": "python",
   "name": "python3"
  },
  "language_info": {
   "codemirror_mode": {
    "name": "ipython",
    "version": 3
   },
   "file_extension": ".py",
   "mimetype": "text/x-python",
   "name": "python",
   "nbconvert_exporter": "python",
   "pygments_lexer": "ipython3",
   "version": "3.6.4"
  }
 },
 "nbformat": 4,
 "nbformat_minor": 2
}
