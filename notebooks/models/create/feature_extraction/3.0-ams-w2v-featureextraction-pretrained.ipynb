{
 "cells": [
  {
   "cell_type": "code",
   "execution_count": 2,
   "metadata": {},
   "outputs": [],
   "source": [
    "import warnings\n",
    "warnings.simplefilter('ignore')\n",
    "\n",
    "from sklearn import svm\n",
    "import pickle\n",
    "import numpy as np\n",
    "import pandas as pd\n",
    "from pandas.io.json import json_normalize\n",
    "\n",
    "import time\n",
    "import re\n",
    "import os\n",
    "import json\n",
    "import subprocess\n",
    "import csv\n",
    "import gzip\n",
    "from datetime import datetime\n",
    "import itertools\n",
    "\n",
    "import matplotlib.pyplot as plt\n",
    "\n",
    "import sys\n",
    "sys.path.append('../../../../external_repositories/word2vec-twitter/')\n",
    "\n",
    "from word2vecReader import Word2Vec"
   ]
  },
  {
   "cell_type": "markdown",
   "metadata": {},
   "source": [
    "# Load Pretrained w2v Model Vocab\n",
    "You'll need to have downloaded word2vec_twitter_model.bin into external_repositories/word2vec-twitter from https://www.kaggle.com/hachemsfar/cbigru/version/1. The model is originally created by Fréderic Godin, but the creator's link to the w2v model is no longer active. "
   ]
  },
  {
   "cell_type": "code",
   "execution_count": 3,
   "metadata": {},
   "outputs": [
    {
     "name": "stdout",
     "output_type": "stream",
     "text": [
      "Loading the model, this can take some time...\n",
      "The vocabulary size is: 3039345\n"
     ]
    }
   ],
   "source": [
    "model_path = \"../../../../external_repositories/word2vec-twitter/word2vec_twitter_model.bin\"\n",
    "print(\"Loading the model, this can take some time...\")\n",
    "model = Word2Vec.load_word2vec_format(model_path, binary=True)\n",
    "print(\"The vocabulary size is: \"+str(len(model.vocab)))"
   ]
  },
  {
   "cell_type": "markdown",
   "metadata": {},
   "source": [
    "# Get Data"
   ]
  },
  {
   "cell_type": "code",
   "execution_count": 4,
   "metadata": {},
   "outputs": [],
   "source": [
    "data_file = \"../../../../data/russell/processed_hand_labeled_w2v_original.csv.gz\"\n",
    "tweets = pd.read_csv(data_file, dtype=str, compression='gzip')"
   ]
  },
  {
   "cell_type": "markdown",
   "metadata": {},
   "source": [
    "# Get w2v Features\n",
    "Here each tweet is its own document."
   ]
  },
  {
   "cell_type": "code",
   "execution_count": 5,
   "metadata": {},
   "outputs": [],
   "source": [
    "## version of func borrowed from https://www.kaggle.com/vukglisovic/classification-combining-lda-and-word2vec\n",
    "def get_w2v_features(w2v_model, words):\n",
    "    \n",
    "    index2word_set = set(w2v_model.vocab.keys())  # words known to model\n",
    "    featureVec = np.zeros(w2v_model.layer1_size, dtype=\"float32\")\n",
    "    \n",
    "    ## Initialize a counter for number of words in a review\n",
    "    nwords = 0\n",
    "    ## Loop over each word in the comment and, if it is in the model's vocabulary, add its feature vector to the total\n",
    "    for word in words:\n",
    "        if word in index2word_set: \n",
    "            featureVec = np.add(featureVec, w2v_model[word])\n",
    "            nwords += 1.\n",
    "\n",
    "    ## Divide the result by the number of words to get the average\n",
    "    if nwords > 0:\n",
    "        featureVec = np.divide(featureVec, nwords)\n",
    "    \n",
    "    return featureVec"
   ]
  },
  {
   "cell_type": "code",
   "execution_count": null,
   "metadata": {},
   "outputs": [],
   "source": [
    "%%time\n",
    "tweets['w2v_features_pretrained'] = list(map(lambda sen_group:\n",
    "                                      get_w2v_features(model, sen_group),\n",
    "                                      tweets.text_tokenized))"
   ]
  },
  {
   "cell_type": "code",
   "execution_count": 7,
   "metadata": {},
   "outputs": [],
   "source": [
    "tweets.to_csv('../../../../data/russell/processed_hand_labeled_w2v_both.csv.gz')"
   ]
  }
 ],
 "metadata": {
  "kernelspec": {
   "display_name": "Python 3",
   "language": "python",
   "name": "python3"
  },
  "language_info": {
   "codemirror_mode": {
    "name": "ipython",
    "version": 3
   },
   "file_extension": ".py",
   "mimetype": "text/x-python",
   "name": "python",
   "nbconvert_exporter": "python",
   "pygments_lexer": "ipython3",
   "version": "3.6.4"
  }
 },
 "nbformat": 4,
 "nbformat_minor": 2
}
